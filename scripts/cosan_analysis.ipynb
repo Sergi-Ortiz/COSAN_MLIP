{
 "cells": [
  {
   "cell_type": "markdown",
   "metadata": {},
   "source": [
    "# __COSAN MLIP MD simulations__\n",
    "Objective: generate enough sampling to determine if the experimental solvent-dependence of COSAN is observed using three different uMLIP models: UMA-small, MACE-MP-0b2 and ORB-v3. \n",
    "\n",
    "Secondary objective: See if in sampling the lack of rotational invariance of ORB models is diffuminated. Inspired by the ETH Zürich team regarding rotational invariance and direct force prediction. "
   ]
  },
  {
   "cell_type": "markdown",
   "metadata": {},
   "source": [
    "### __Imports & Functions__"
   ]
  },
  {
   "cell_type": "code",
   "execution_count": 10,
   "metadata": {},
   "outputs": [],
   "source": [
    "import os\n",
    "import numpy as np\n",
    "import matplotlib.pyplot as plt\n",
    "from matplotlib import rc\n",
    "#rc('font',**{'family':'sans-serif','sans-serif':['Helvetica']})\n",
    "rc('text', usetex=True)\n",
    "rc('lines', lw=1, color='b')\n",
    "rc('legend', loc='best')\n",
    "plt.rcParams[\"legend.fancybox\"] = False\n",
    "plt.rcParams[\"legend.edgecolor\"] = 'black'\n",
    "plt.rcParams['legend.borderpad'] = 0.25\n",
    "plt.rcParams['legend.fontsize'] = 11\n",
    "plt.rcParams.update({'pgf.preamble': r'\\usepackage{amsmath}'})\n",
    "\n",
    "from ase.visualize import view\n",
    "from ase.build import molecule\n",
    "from ase.io import write, read\n",
    "from ase.io import Trajectory, trajectory\n",
    "from ase import build\n",
    "from ase.data.pubchem import pubchem_atoms_search\n",
    "\n",
    "import ase.units as units\n",
    "from ase import Atoms\n",
    "from ase.calculators.tip3p import TIP3P, angleHOH, rOH\n",
    "from ase.constraints import FixBondLengths\n",
    "from ase.io.trajectory import Trajectory\n",
    "from ase.io.trajectory import TrajectoryReader\n",
    "from ase.md import Langevin\n",
    "from ase.md.velocitydistribution import MaxwellBoltzmannDistribution\n",
    "from ase.calculators.checkpoint import Checkpoint\n",
    "import pickle\n",
    "\n",
    "# constants\n",
    "R = 8.31446261815324    "
   ]
  },
  {
   "cell_type": "code",
   "execution_count": 15,
   "metadata": {},
   "outputs": [],
   "source": [
    "def analyze_energies(log_path):\n",
    "\n",
    "    # load the data in the .log file\n",
    "    raw_data = np.loadtxt(fname=log_path, skiprows=1)\n",
    "    time_data = raw_data[:, 0]\n",
    "    etot_data = raw_data[:, 1]\n",
    "    epot_data = raw_data[:, 2]\n",
    "    ekin_data = raw_data[:, 3]\n",
    "    temp_data = raw_data[:, 4]\n",
    "\n",
    "    # define the figure\n",
    "    n_cols = 4\n",
    "    n_rows = 1\n",
    "    fig, axes = plt.subplots(ncols=n_cols, nrows=n_rows, figsize=(3.5*n_cols, 3.5*n_rows))\n",
    "    ax1, ax2, ax3, ax4 = axes[0], axes[1], axes[2], axes[3]\n",
    "\n",
    "\n",
    "    # kin\n",
    "    ax1.tick_params(bottom=True, top=True, left=True, right=True, direction=\"in\")\n",
    "    ax1.tick_params(labelbottom=True, labeltop=False, labelleft=True, labelright=False, direction=\"in\")\n",
    "    ax1.plot(time_data, ekin_data, label=r'$\\textnormal{kinetic energy}$', color='deeppink', alpha=0.9)\n",
    "    ax1.set(xlabel=r'$\\textnormal{simulation time}\\;(\\textnormal{fs})$', ylabel=r'$\\textnormal{kinetic energy}\\;(\\textnormal{eV})$')\n",
    "    ax1.legend(loc='best')\n",
    "\n",
    "    # pot\n",
    "    ax2.tick_params(bottom=True, top=True, left=True, right=True, direction=\"in\")\n",
    "    ax2.tick_params(labelbottom=True, labeltop=False, labelleft=True, labelright=False, direction=\"in\")\n",
    "    ax2.plot(time_data, epot_data, label=r'$\\textnormal{potential energy}$', color='darkgreen', alpha=0.9)\n",
    "    ax2.set(xlabel=r'$\\textnormal{simulation time}\\;(\\textnormal{fs})$', ylabel=r'$\\textnormal{potential energy}\\;(\\textnormal{eV})$')\n",
    "    ax2.legend(loc='best')\n",
    "\n",
    "    # total\n",
    "    ax3.tick_params(bottom=True, top=True, left=True, right=True, direction=\"in\")\n",
    "    ax3.tick_params(labelbottom=True, labeltop=False, labelleft=True, labelright=False, direction=\"in\")\n",
    "    ax3.plot(time_data, etot_data, label=r'$\\textnormal{total energy}$', color='darkviolet', alpha=0.9)\n",
    "    ax3.set(xlabel=r'$\\textnormal{simulation time}\\;(\\textnormal{fs})$', ylabel=r'$\\textnormal{total energy}\\;(\\textnormal{eV})$')\n",
    "    ax3.legend(loc='best')\n",
    "    \n",
    "    # temperature\n",
    "    ax4.tick_params(bottom=True, top=True, left=True, right=True, direction=\"in\")\n",
    "    ax4.tick_params(labelbottom=True, labeltop=False, labelleft=True, labelright=False, direction=\"in\")\n",
    "    ax4.plot(time_data, temp_data, label=r'$\\textnormal{total energy}$', color='black', alpha=0.9)\n",
    "    ax4.set(xlabel=r'$\\textnormal{simulation time}\\;(\\textnormal{fs})$', ylabel=r'$\\textnormal{temperature}\\;(\\textnormal{K})$')\n",
    "    ax4.legend(loc='best')\n",
    "\n",
    "    plt.tight_layout()\n",
    "    plt.savefig('./TIP3P_Waters.png', dpi=300)\n",
    "    plt.show(fig)\n",
    "\n",
    "\n",
    "\n",
    "def compute_dihedral(frame):\n",
    "\n",
    "    # return the BBBB dihedral\n",
    "    return frame.get_dihedral(8, 4, 15, 19)\n",
    "\n",
    "\n",
    "def analyze_dihedral_dist(sim_path, traj_str='.'):\n",
    "\n",
    "    # obtain all (unordered) trajectories in sim_path\n",
    "    traj_list = [x for x in os.listdir(sim_path) if ('.traj' in x) and (traj_str in x)]\n",
    "\n",
    "    dih_pool = []\n",
    "    # for each traj file, obtain the dihedrals\n",
    "    for traj in traj_list:\n",
    "        print(os.path.join(sim_path, traj))\n",
    "        traj_obj = TrajectoryReader(os.path.join(sim_path, traj))\n",
    "        \n",
    "        dih_list = []\n",
    "        for frame in traj_obj:\n",
    "            dih_list.append(compute_dihedral(frame))\n",
    "\n",
    "        dih_pool.append(dih_list)\n",
    "\n",
    "    # pool all dihedrals \n",
    "    dih_pool_array = np.array(dih_pool).flatten()\n",
    "\n",
    "    return dih_pool_array\n",
    "\n",
    "\n",
    "def plot_dihedral_dist(dih_list, sim_path, bin_size=5, plot_pdf=False, T=300, true_distrib_angles=None, true_distrib_energies=None, ylim=10):\n",
    "\n",
    "    bins = np.arange(0, 360+bin_size, bin_size)\n",
    "\n",
    "    # generate time figure\n",
    "    fig, axes = plt.subplots(ncols=1, nrows=1, figsize=(6., 4.))\n",
    "\n",
    "    # color lists\n",
    "    colors = ['darkgreen', 'deeppink', 'mediumblue', 'orange']\n",
    "\n",
    "    axes.tick_params(bottom=True, top=True, left=True, right=False,direction=\"in\")\n",
    "    axes.tick_params(labelbottom=True, labeltop=False, labelleft=True,labelright=False, direction=\"in\")\n",
    "\n",
    "    _counts, _bins, _ = axes.hist(dih_list, bins=bins, density=True, edgecolor=colors[0], color='w', histtype='stepfilled')\n",
    "    axes.hist(dih_list, bins=bins, density=True, color=colors[0], alpha=.08, label=r'$\\textnormal{BBBB dihedral}$')    \n",
    "\n",
    "    # labels\n",
    "    axes.set(ylabel=r'$\\textnormal{density (adim.)}$')\n",
    "    axes.set(xlabel=r'$\\textnormal{BBBB dihedral\\quad(deg)}$')\n",
    "    axes.legend(loc='best', prop={'size': 10})\n",
    "\n",
    "    plt.tight_layout()\n",
    "    plt.savefig(os.path.join(sim_path, 'dih_dist.png'), dpi=400)\n",
    "    plt.show(fig)\n",
    "\n",
    "\n",
    "    # plot the pdf according to the Boltzmann distribution using the dihedral distribution\n",
    "    def _compute_dih_pdf(_bins, _counts, _T):\n",
    "\n",
    "        # obtain the central position of each bin\n",
    "        angles = []\n",
    "        for i in range(len(_bins)-1):\n",
    "            angles.append((_bins[i] + _bins[i+1])/2.)\n",
    "\n",
    "        # obtain the most probable bin (minimum energy in the PES)\n",
    "        N_0 = _counts[np.argmax(_counts)]\n",
    "\n",
    "        # obtain the \\DeltaE via \\Delta E_{ij} = - kB * T * ln(N_j/N_i) \n",
    "        energies = []\n",
    "        for N_i in _counts:\n",
    "            \n",
    "            ratio = np.log(N_i/N_0)\n",
    "            if np.abs(ratio) != np.inf:\n",
    "                DeltaE = - R * T * ratio * 0.001\n",
    "            else:\n",
    "                DeltaE = 1000\n",
    "            energies.append(DeltaE)\n",
    "\n",
    "        # return a set of points centered on each bin with the pdf value\n",
    "        return angles, energies\n",
    "    \n",
    "\n",
    "    def _plot_dih_pdf(angles, energies, true_angles=true_distrib_angles, true_energies=true_distrib_energies):\n",
    "\n",
    "        # generate time figure\n",
    "        fig, axes = plt.subplots(ncols=1, nrows=1, figsize=(6., 4.))\n",
    "\n",
    "        # color lists\n",
    "        colors = ['crimson', 'black']\n",
    "\n",
    "        axes.tick_params(bottom=True, top=True, left=True, right=False,direction=\"in\")\n",
    "        axes.tick_params(labelbottom=True, labeltop=False, labelleft=True,labelright=False, direction=\"in\")\n",
    "\n",
    "        axes.plot(angles, energies, label=r'$\\textnormal{' + 'MD distribution' + r'}$', color=colors[0], alpha=0.8, lw=1)\n",
    "        axes.set_ylim(bottom=ylim[0], top=ylim[1])\n",
    "        if true_angles is not None and true_energies is not None:\n",
    "            axes.plot(true_angles, true_energies, label=r'$\\textnormal{' + 'real PES' + r'}$', color=colors[1], alpha=0.8, lw=2)   \n",
    "\n",
    "        # labels\n",
    "        axes.set(ylabel=r'$\\Delta E\\quad\\textnormal{(kJ mol)}^{-1}$')\n",
    "        axes.set(xlabel=r'$\\textnormal{BBBB dihedral\\quad(deg, }^\\circ)$')\n",
    "        axes.legend(loc='best', prop={'size': 10})\n",
    "\n",
    "        plt.tight_layout()\n",
    "        plt.savefig(os.path.join(sim_path, 'dih_pdf.png'), dpi=400)\n",
    "        plt.show(fig)\n",
    "\n",
    "\n",
    "\n",
    "    if plot_pdf:\n",
    "        _angles, _energies = _compute_dih_pdf(_bins, _counts, T)\n",
    "\n",
    "        if (true_distrib_angles is not None) and (true_distrib_energies is not None):\n",
    "            _plot_dih_pdf(_angles, _energies, true_angles=true_distrib_angles, true_energies=true_distrib_energies)\n",
    "        else: \n",
    "            _plot_dih_pdf(_angles, _energies)\n"
   ]
  },
  {
   "cell_type": "markdown",
   "metadata": {},
   "source": [
    "# __COSAN MD Analysis__"
   ]
  },
  {
   "cell_type": "raw",
   "metadata": {
    "vscode": {
     "languageId": "raw"
    }
   },
   "source": [
    "# visualize the traj\n",
    "traj_path = '/Users/sergiortizropero/TFG_phys/NNPs_TFG/COSAN/simulations/test/test_1.traj'\n",
    "\n",
    "load_traj = Trajectory(traj_path, 'r')\n",
    "view(load_traj, viewer='ase')"
   ]
  },
  {
   "cell_type": "code",
   "execution_count": 16,
   "metadata": {},
   "outputs": [
    {
     "name": "stdout",
     "output_type": "stream",
     "text": [
      "/Users/sergiortizropero/TFG_phys/NNPs_TFG/COSAN/simulations/cosan_mds/solvated_MACE-MP_0/solvated_MACE-MP_0_NVT_1.traj\n"
     ]
    },
    {
     "data": {
      "image/png": "[encoded data removed]",
      "text/plain": [
       "<Figure size 600x400 with 1 Axes>"
      ]
     },
     "metadata": {},
     "output_type": "display_data"
    },
    {
     "name": "stderr",
     "output_type": "stream",
     "text": [
      "/var/folders/cq/s30xmbh57xndgmhg1zhwclsh0000gn/T/ipykernel_45845/1352019960.py:122: RuntimeWarning: divide by zero encountered in log\n",
      "  ratio = np.log(N_i/N_0)\n"
     ]
    },
    {
     "data": {
      "image/png": "[encoded data removed]",
      "text/plain": [
       "<Figure size 600x400 with 1 Axes>"
      ]
     },
     "metadata": {},
     "output_type": "display_data"
    }
   ],
   "source": [
    "sim_path = '/Users/sergiortizropero/TFG_phys/NNPs_TFG/COSAN/simulations/cosan_mds/solvated_MACE-MP_0'\n",
    "T = 300.\n",
    "\n",
    "# extract approximate PES to compare\n",
    "pes_ref_path = '/Users/sergiortizropero/TFG_phys/NNPs_TFG/COSAN/simulations/cosan_mds/cosan_MACE-MP_energy_rotation.txt'\n",
    "raw_data = np.loadtxt(pes_ref_path, delimiter='\\t')\n",
    "raw_angles = raw_data[:, 0].tolist()\n",
    "raw_energies = raw_data[:, 1].tolist()\n",
    "\n",
    "# preprocess\n",
    "min_angle_idx = np.argmin(raw_angles)\n",
    "angles = raw_angles[min_angle_idx:] + raw_angles[:min_angle_idx]\n",
    "energies = raw_energies[min_angle_idx:] + raw_energies[:min_angle_idx]\n",
    "\n",
    "\n",
    "# analyze the dihedral from all trajectories\n",
    "dih_list = analyze_dihedral_dist(sim_path, traj_str='NVT')\n",
    "\n",
    "# plot the analysis\n",
    "plot_dihedral_dist(dih_list, sim_path, bin_size=10, T=300, plot_pdf=True, ylim=[-1, 10], true_distrib_angles=angles, true_distrib_energies=energies)"
   ]
  },
  {
   "cell_type": "code",
   "execution_count": null,
   "metadata": {},
   "outputs": [],
   "source": [
    "# visualize the optimization traj\n",
    "traj_path = '/Users/sergiortizropero/TFG_phys/NNPs_TFG/COSAN/simulations/cosan_mds/solvated_MACE-MP_0.0/relaxation.traj'\n",
    "\n",
    "load_traj = Trajectory(traj_path, 'r')\n",
    "view(load_traj, viewer='ase')"
   ]
  },
  {
   "cell_type": "code",
   "execution_count": 17,
   "metadata": {},
   "outputs": [
    {
     "data": {
      "text/plain": [
       "<Popen: returncode: None args: ['/Users/sergiortizropero/miniconda3/envs/ASE...>"
      ]
     },
     "execution_count": 17,
     "metadata": {},
     "output_type": "execute_result"
    },
    {
     "name": "stderr",
     "output_type": "stream",
     "text": [
      "Traceback (most recent call last):\n",
      "  File \"/Users/sergiortizropero/miniconda3/envs/ASE_all/lib/python3.10/runpy.py\", line 196, in _run_module_as_main\n",
      "    return _run_code(code, main_globals, None,\n",
      "  File \"/Users/sergiortizropero/miniconda3/envs/ASE_all/lib/python3.10/runpy.py\", line 86, in _run_code\n",
      "    exec(code, run_globals)\n",
      "  File \"/Users/sergiortizropero/miniconda3/envs/ASE_all/lib/python3.10/site-packages/ase/gui/pipe.py\", line 32, in <module>\n",
      "    main()\n",
      "  File \"/Users/sergiortizropero/miniconda3/envs/ASE_all/lib/python3.10/site-packages/ase/gui/pipe.py\", line 28, in main\n",
      "    plt.show()\n",
      "  File \"/Users/sergiortizropero/miniconda3/envs/ASE_all/lib/python3.10/site-packages/matplotlib/pyplot.py\", line 614, in show\n",
      "    return _get_backend_mod().show(*args, **kwargs)\n",
      "  File \"/Users/sergiortizropero/miniconda3/envs/ASE_all/lib/python3.10/site-packages/matplotlib_inline/backend_inline.py\", line 90, in show\n",
      "    display(\n",
      "  File \"/Users/sergiortizropero/miniconda3/envs/ASE_all/lib/python3.10/site-packages/IPython/core/display_functions.py\", line 265, in display\n",
      "    print(*objs)\n",
      "ValueError: I/O operation on closed file.\n"
     ]
    }
   ],
   "source": [
    "# visualize the traj\n",
    "traj_path = '/Users/sergiortizropero/TFG_phys/NNPs_TFG/COSAN/simulations/cosan_mds/solvated_MACE-MP_0/solvated_MACE-MP_0_NPT_3.traj'\n",
    "\n",
    "load_traj = Trajectory(traj_path, 'r')\n",
    "view(load_traj, viewer='ase')"
   ]
  },
  {
   "cell_type": "code",
   "execution_count": 3,
   "metadata": {},
   "outputs": [
    {
     "data": {
      "text/plain": [
       "<Popen: returncode: None args: ['/Users/sergiortizropero/miniconda3/envs/ASE...>"
      ]
     },
     "execution_count": 3,
     "metadata": {},
     "output_type": "execute_result"
    }
   ],
   "source": [
    "# visualize\n",
    "cosan_solv_path = '/Users/sergiortizropero/TFG_phys/NNPs_TFG/COSAN/simulations/cosan_solv/cosan_solv_ion.pdb'\n",
    "cosan_solv = read(cosan_solv_path)\n",
    "\n",
    "view(cosan_solv, viewer='ase')"
   ]
  }
 ],
 "metadata": {
  "kernelspec": {
   "display_name": "ASE_all",
   "language": "python",
   "name": "python3"
  },
  "language_info": {
   "codemirror_mode": {
    "name": "ipython",
    "version": 3
   },
   "file_extension": ".py",
   "mimetype": "text/x-python",
   "name": "python",
   "nbconvert_exporter": "python",
   "pygments_lexer": "ipython3",
   "version": "3.10.16"
  }
 },
 "nbformat": 4,
 "nbformat_minor": 2
}
